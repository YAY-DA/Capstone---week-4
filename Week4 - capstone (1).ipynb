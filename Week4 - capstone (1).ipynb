{
 "cells": [
  {
   "cell_type": "markdown",
   "metadata": {},
   "source": [
    "# The battle of Neighborhoods - Week 4"
   ]
  },
  {
   "cell_type": "markdown",
   "metadata": {},
   "source": [
    "## Paris -  Neighberhood cluster\n"
   ]
  },
  {
   "cell_type": "markdown",
   "metadata": {},
   "source": [
    "### Probleme behaviour"
   ]
  },
  {
   "cell_type": "markdown",
   "metadata": {},
   "source": [
    "Paris (nicknamed the \"City of light\") is the capital city of France, and the largest city in France, Paris is also the center of French economy, politics, traffic and culture. Paris has many art museums(206) and historical buildings(2185). As a traffic center, Paris has a very good underground subway system (called the Metro),there are also 12,000 restaurants, 437 gardens.\n",
    "\n",
    "The insights derived from analysis will give good understanding of the **tourism agency environment** which help in strategically targeting the market. This will help in reduction of risk. And the Return on Investment will be reasonable."
   ]
  },
  {
   "cell_type": "markdown",
   "metadata": {},
   "source": [
    "### Probleme description"
   ]
  },
  {
   "cell_type": "markdown",
   "metadata": {},
   "source": [
    "As a tourism agency we need to know which neighberhood are the same to **optimise the customer journey** :\n",
    "- select **days by neighbourhood theme** that maximise the number of sight seeing \n",
    "- making the trip more profitable for the customer and therefore for the agencies too. \n",
    "- to make the visit more coherent with the places visited \n",
    "\n",
    "\n",
    "\n"
   ]
  },
  {
   "cell_type": "markdown",
   "metadata": {},
   "source": [
    "### Target Audience\n",
    "\n"
   ]
  },
  {
   "cell_type": "markdown",
   "metadata": {},
   "source": [
    "My Client is a tourism agency, so I will focus on Paris borough during my analysis. The objective is to determin the  5 types of  neighborhood of paris city . The Management also expects to understand the following points: \n",
    "\n",
    "- how many Boroughs and neighberhoods are in paris.\n",
    "- how much neighberhoods are in each cluster.\n",
    "- what are the particularities of each cluster.\n",
    "- What are the best 5 cluster to visit\n",
    "\n",
    "This would interest anyone who wants to start an agency in Paris, and also someone how want to have a good journey in Paris."
   ]
  }
 ],
 "metadata": {
  "kernelspec": {
   "display_name": "Python 3",
   "language": "python",
   "name": "python3"
  },
  "language_info": {
   "codemirror_mode": {
    "name": "ipython",
    "version": 3
   },
   "file_extension": ".py",
   "mimetype": "text/x-python",
   "name": "python",
   "nbconvert_exporter": "python",
   "pygments_lexer": "ipython3",
   "version": "3.8.3"
  }
 },
 "nbformat": 4,
 "nbformat_minor": 4
}
